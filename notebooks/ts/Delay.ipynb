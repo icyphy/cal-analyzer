{
 "cells": [
  {
   "cell_type": "code",
   "execution_count": 1,
   "id": "4cc8aa06",
   "metadata": {},
   "outputs": [
    {
     "name": "stdout",
     "output_type": "stream",
     "text": [
      "Max-plus algebra library imported successfully\n"
     ]
    }
   ],
   "source": [
    "// Import max-plus algebra functions from our library\n",
    "import { \n",
    "  oplus, otimes, odot, transpose, trace, star, plus, powOtimes,\n",
    "  EPS, INF, Matrix, Vector,\n",
    "  createEpsilonMatrix, createIdentityMatrix, reset as resetMatrix\n",
    "} from './max-plus';\n",
    "\n",
    "console.log(\"Max-plus algebra library imported successfully\");\n"
   ]
  },
  {
   "cell_type": "markdown",
   "id": "4b37fdea",
   "metadata": {},
   "source": [
    "### Delay\n",
    "\n",
    "<img src=\"../../img/Delay.svg\" alt=\"drawing\" width=\"500\"/>"
   ]
  },
  {
   "cell_type": "code",
   "execution_count": 2,
   "id": "9b3d1033",
   "metadata": {},
   "outputs": [
    {
     "name": "stdout",
     "output_type": "stream",
     "text": [
      "System setup complete\n"
     ]
    }
   ],
   "source": [
    "// System Max-Plus Encoding\n",
    "\n",
    "// Create matrices for system\n",
    "let x: Matrix = [[EPS, EPS]];\n",
    "\n",
    "// Indices for system\n",
    "const a = 0;\n",
    "const b = 1;\n",
    "\n",
    "console.log(\"System setup complete\");\n"
   ]
  },
  {
   "cell_type": "code",
   "execution_count": 3,
   "id": "a6efd5c7",
   "metadata": {},
   "outputs": [],
   "source": [
    "// Logical time\n",
    "let t: number = EPS;\n",
    "let tBar: Matrix = [[t, t]];\n",
    "\n",
    "// Timer\n",
    "const offset = 0;\n",
    "const period = 1;\n",
    "let timerValue: number = offset;\n",
    "\n",
    "// Delay\n",
    "const delay = 0.1;\n",
    "\n",
    "function updateLogicalTime(k: number): void {\n",
    "  if (k == 0) t = timerValue;\n",
    "  // If k is odd, add delay on top of t.\n",
    "  else if (k % 2 == 1) t += delay;\n",
    "  // If k is even, increment timerValue.\n",
    "  else {\n",
    "    timerValue += period;\n",
    "    t = timerValue; \n",
    "  }\n",
    "  // Update tBar.\n",
    "  tBar = [[t, t]];\n",
    "}\n",
    "\n",
    "// Execution times\n",
    "let e: Matrix = [[0.1, 0.1]];\n",
    "\n",
    "function updateApparentLatency(k: number): void {\n",
    "  // If k is even, both reactions fire.\n",
    "  if (k % 2 == 0) e = [[0.1, 0.1]];\n",
    "  // If k is odd, only reaction A fires.\n",
    "  else [[0.1, 0]];\n",
    "}"
   ]
  },
  {
   "cell_type": "code",
   "execution_count": 4,
   "id": "e3e630ad",
   "metadata": {},
   "outputs": [
    {
     "name": "stdout",
     "output_type": "stream",
     "text": [
      "Gamma: [ [ 0, -Infinity ], [ 0.1, 0 ] ]\n",
      "GammaStar: [ [ 0, -Infinity ], [ 0.1, 0 ] ]\n",
      "B (diagonal): [ [ 0.1, 0.1 ], [ 0.1, 0.1 ] ]\n"
     ]
    }
   ],
   "source": [
    "// Evolution equations for system in factored form: x' = (GammaStar ⊗ B) ⊗ x ⊕ (GammaStar ⊗ tBar)\n",
    "const Gamma: Matrix = [\n",
    "  [0, EPS],\n",
    "  [e[0][a], 0],\n",
    "];\n",
    "const GammaStar: Matrix = otimes(Gamma, Gamma);\n",
    "\n",
    "// B is diagonal with execution times on the diagonal\n",
    "const B: Matrix = [\n",
    "  [e[0][a], e[0][b]],\n",
    "  [e[0][a], e[0][b]],\n",
    "];\n",
    "\n",
    "console.log(\"Gamma:\", Gamma);\n",
    "console.log(\"GammaStar:\", GammaStar);\n",
    "console.log(\"B (diagonal):\", B);\n"
   ]
  },
  {
   "cell_type": "code",
   "execution_count": 5,
   "id": "7a758e67",
   "metadata": {},
   "outputs": [
    {
     "name": "stdout",
     "output_type": "stream",
     "text": [
      "System functions defined\n"
     ]
    }
   ],
   "source": [
    "// Step function for system evolution using GammaStar and B\n",
    "function step(x: Matrix, tBar: Matrix): Matrix {\n",
    "  const xT: Matrix = transpose(x);\n",
    "  const tT: Matrix = transpose(tBar);\n",
    "\n",
    "  // (GammaStar ⊗ B) ⊗ x\n",
    "  const GB = otimes(GammaStar, B);\n",
    "  const GBx = otimes(GB, xT);\n",
    "\n",
    "  // GammaStar ⊗ tBar\n",
    "  const Gt = otimes(GammaStar, tT);\n",
    "\n",
    "  // Combine and transpose back to row vector\n",
    "  const result = oplus(GBx, Gt);\n",
    "  return transpose(result);\n",
    "}\n",
    "\n",
    "// Reporting function (updated to work with matrices)\n",
    "function reportStats(k: number, x: Matrix, t: number): void {\n",
    "  const lagK = x[0].map(xi => xi - t); // lag\n",
    "\n",
    "  console.log(`Tag index k=${k}`);\n",
    "  console.log(`t(k)= ${t}`);\n",
    "  console.log(`x(k) = earliest possible firing times = [${x[0].join(', ')}]`);\n",
    "  console.log(`lag(k) = [${lagK.join(', ')}]`);\n",
    "}  \n",
    "\n",
    "console.log(\"System functions defined\");\n"
   ]
  },
  {
   "cell_type": "code",
   "execution_count": 6,
   "id": "53755e46",
   "metadata": {},
   "outputs": [
    {
     "name": "stdout",
     "output_type": "stream",
     "text": [
      "System simulation ready\n"
     ]
    }
   ],
   "source": [
    "// System simulation setup\n",
    "// Initial logical time (scalar then blasted)\n",
    "t = 0;\n",
    "tBar = [[t, t]];\n",
    "\n",
    "// Reset x to eps using the library function\n",
    "x = resetMatrix(x);\n",
    "\n",
    "// Iteration count\n",
    "let k = 0;\n",
    "\n",
    "console.log(\"System simulation ready\");\n"
   ]
  },
  {
   "cell_type": "markdown",
   "id": "ccb6369e",
   "metadata": {},
   "source": [
    "### Execute the following repeatly."
   ]
  },
  {
   "cell_type": "code",
   "execution_count": 11,
   "id": "1c0ecbe6",
   "metadata": {},
   "outputs": [
    {
     "name": "stdout",
     "output_type": "stream",
     "text": [
      "Tag index k=4\n",
      "t(k)= 2\n",
      "x(k) = earliest possible firing times = [2, 2.1]\n",
      "lag(k) = [0, 0.10000000000000009]\n",
      "5\n"
     ]
    }
   ],
   "source": [
    "// Update logical time and apparent latency.\n",
    "updateLogicalTime(k);\n",
    "updateApparentLatency(k);\n",
    "\n",
    "// Step the system from k to k+1\n",
    "x = step(x, tBar);\n",
    "\n",
    "// Statistics\n",
    "reportStats(k, x, t);\n",
    "\n",
    "// Bump k\n",
    "k += 1;\n"
   ]
  }
 ],
 "metadata": {
  "kernelspec": {
   "display_name": "TypeScript",
   "language": "typescript",
   "name": "tslab"
  },
  "language_info": {
   "codemirror_mode": {
    "mode": "typescript",
    "name": "javascript",
    "typescript": true
   },
   "file_extension": ".ts",
   "mimetype": "text/typescript",
   "name": "typescript",
   "version": "3.7.2"
  }
 },
 "nbformat": 4,
 "nbformat_minor": 5
}
