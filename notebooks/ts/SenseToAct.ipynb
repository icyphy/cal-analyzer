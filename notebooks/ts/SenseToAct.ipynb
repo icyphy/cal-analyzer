{
 "cells": [
  {
   "cell_type": "code",
   "execution_count": 8,
   "id": "4cc8aa06",
   "metadata": {},
   "outputs": [
    {
     "name": "stdout",
     "output_type": "stream",
     "text": [
      "Max-plus algebra library imported successfully\n"
     ]
    }
   ],
   "source": [
    "// Import max-plus algebra functions from our library\n",
    "import { \n",
    "  oplus, otimes, odot, transpose, trace, star, plus, powOtimes,\n",
    "  EPS, INF, Matrix, Vector,\n",
    "  createEpsilonMatrix, createIdentityMatrix, reset as resetMatrix\n",
    "} from './max-plus';\n",
    "\n",
    "console.log(\"Max-plus algebra library imported successfully\");\n"
   ]
  },
  {
   "cell_type": "markdown",
   "id": "4b37fdea",
   "metadata": {},
   "source": [
    "### SenseToAct\n",
    "\n",
    "<img src=\"../../img/SenseToAct.svg\" alt=\"drawing\" width=\"500\"/>"
   ]
  },
  {
   "cell_type": "code",
   "execution_count": 9,
   "id": "9b3d1033",
   "metadata": {},
   "outputs": [
    {
     "name": "stdout",
     "output_type": "stream",
     "text": [
      "System setup complete\n"
     ]
    }
   ],
   "source": [
    "// System Max-Plus Encoding\n",
    "// System setup for Sensor-Processor-Actuator pipeline\n",
    "\n",
    "// Create matrices for system\n",
    "let x: Matrix = [[EPS, EPS, EPS]];     // Physical firing times: [sensor, processor, actuator]\n",
    "\n",
    "// Single logical time variable, then \"blast\" to 1x3 vector (only sensor scheduled)\n",
    "let t: number = EPS;\n",
    "let tBar: Matrix = [[t, t, t]];\n",
    "\n",
    "// Indices for system\n",
    "const sensor = 0;    // Sensor reactor\n",
    "const processor = 1; // Processor reactor  \n",
    "const actuator = 2;  // Actuator reactor\n",
    "\n",
    "// Execution times (diagonal of B)\n",
    "const eDiag: Matrix = [[0.1, 0.1, 0.1]];  // [e_sensor, e_processor, e_actuator]\n",
    "\n",
    "// Sensor period (1 unit)\n",
    "const sensorPeriod = 1;\n",
    "\n",
    "console.log(\"System setup complete\");\n"
   ]
  },
  {
   "cell_type": "code",
   "execution_count": 10,
   "id": "e3e630ad",
   "metadata": {},
   "outputs": [
    {
     "name": "stdout",
     "output_type": "stream",
     "text": [
      "Gamma: [\n",
      "  [ 0, -Infinity, -Infinity ],\n",
      "  [ 0.1, 0, -Infinity ],\n",
      "  [ -Infinity, 0.1, 0 ]\n",
      "]\n",
      "GammaStar: [ [ 0, -Infinity, -Infinity ], [ 0.1, 0, -Infinity ], [ 0.2, 0.1, 0 ] ]\n",
      "B (diagonal): [\n",
      "  [ 0.1, -Infinity, -Infinity ],\n",
      "  [ -Infinity, 0.1, -Infinity ],\n",
      "  [ -Infinity, -Infinity, 0.1 ]\n",
      "]\n"
     ]
    }
   ],
   "source": [
    "// Evolution equations for system in factored form: x' = (GammaStar ⊗ B) ⊗ x ⊕ (GammaStar ⊗ tBar)\n",
    "// GammaStar: transitive closure of reaction dependencies (no execution times)\n",
    "// B: diagonal matrix of execution times\n",
    "\n",
    "// GammaStar for linear chain sensor -> processor -> actuator\n",
    "// const GammaStar: Matrix = [\n",
    "//   [0, EPS, EPS],  // sensor reaches itself\n",
    "//   [eDiag[0][sensor], 0, EPS],  // processor reachable from sensor and itself\n",
    "//   [eDiag[0][sensor] + eDiag[0][processor], eDiag[0][processor], 0],  // actuator reachable from sensor, processor, and itself\n",
    "// ];\n",
    "const Gamma: Matrix = [\n",
    "  [0, EPS, EPS],  // sensor reaches itself\n",
    "  [eDiag[0][sensor], 0, EPS],  // processor reachable from sensor and itself\n",
    "  [EPS, eDiag[0][processor], 0],  // actuator reachable from sensor, processor, and itself\n",
    "];\n",
    "const GammaStar: Matrix = otimes(Gamma, Gamma);\n",
    "\n",
    "// B is diagonal with execution times on the diagonal\n",
    "const B: Matrix = [\n",
    "  [eDiag[0][sensor], EPS,                      EPS],\n",
    "  [EPS,              eDiag[0][processor],      EPS],\n",
    "  [EPS,              EPS,                      eDiag[0][actuator]],\n",
    "];\n",
    "\n",
    "console.log(\"Gamma:\", Gamma);\n",
    "console.log(\"GammaStar:\", GammaStar);\n",
    "console.log(\"B (diagonal):\", B);\n"
   ]
  },
  {
   "cell_type": "code",
   "execution_count": 11,
   "id": "7a758e67",
   "metadata": {},
   "outputs": [
    {
     "name": "stdout",
     "output_type": "stream",
     "text": [
      "System functions defined\n"
     ]
    }
   ],
   "source": [
    "// Step function for system evolution using GammaStar and B\n",
    "function step(x: Matrix, tBar: Matrix): Matrix {\n",
    "  const xT: Matrix = transpose(x);\n",
    "  const tT: Matrix = transpose(tBar);\n",
    "\n",
    "  // (GammaStar ⊗ B) ⊗ x\n",
    "  const GB = otimes(GammaStar, B);\n",
    "  const GBx = otimes(GB, xT);\n",
    "\n",
    "  // GammaStar ⊗ tBar\n",
    "  const Gt = otimes(GammaStar, tT);\n",
    "\n",
    "  // Combine and transpose back to row vector\n",
    "  const result = oplus(GBx, Gt);\n",
    "  return transpose(result);\n",
    "}\n",
    "\n",
    "// Reporting function (updated to work with matrices)\n",
    "function reportStats(k: number, x: Matrix, t: number): void {\n",
    "  const lagK = x[0].map(xi => xi - t); // lag\n",
    "\n",
    "  console.log(`Tag index k=${k}`);\n",
    "  console.log(`t(k)= ${t}`);\n",
    "  console.log(`x(k) = earliest possible firing times = [${x[0].join(', ')}]`);\n",
    "  console.log(`lag(k) = [${lagK.join(', ')}]`);\n",
    "}  \n",
    "\n",
    "console.log(\"System functions defined\");\n"
   ]
  },
  {
   "cell_type": "code",
   "execution_count": 12,
   "id": "53755e46",
   "metadata": {},
   "outputs": [
    {
     "name": "stdout",
     "output_type": "stream",
     "text": [
      "System simulation ready\n"
     ]
    }
   ],
   "source": [
    "// System simulation setup\n",
    "// Initial logical time (scalar then blasted)\n",
    "t = 0;\n",
    "tBar = [[t, t, t]];\n",
    "\n",
    "// Reset x to eps using the library function\n",
    "x = resetMatrix(x);\n",
    "\n",
    "// Iteration count\n",
    "let k = 0;\n",
    "\n",
    "console.log(\"System simulation ready\");\n"
   ]
  },
  {
   "cell_type": "code",
   "execution_count": 13,
   "id": "4741196c",
   "metadata": {},
   "outputs": [
    {
     "name": "stdout",
     "output_type": "stream",
     "text": [
      "Tag index k=1\n"
     ]
    },
    {
     "name": "stdout",
     "output_type": "stream",
     "text": [
      "t(k)= 0\n",
      "x(k) = earliest possible firing times = [0, 0.1, 0.2]\n",
      "lag(k) = [0, 0.1, 0.2]\n"
     ]
    }
   ],
   "source": [
    "// Execute system simulation *once*\n",
    "x = step(x, tBar);\n",
    "k += 1;\n",
    "\n",
    "// Statistics\n",
    "reportStats(k, x, t);\n"
   ]
  },
  {
   "cell_type": "code",
   "execution_count": 18,
   "id": "1c0ecbe6",
   "metadata": {},
   "outputs": [
    {
     "name": "stdout",
     "output_type": "stream",
     "text": [
      "Tag index k=6\n",
      "t(k)= 5\n",
      "x(k) = earliest possible firing times = [5, 5.1, 5.2]\n",
      "lag(k) = [0, 0.09999999999999964, 0.20000000000000018]\n"
     ]
    }
   ],
   "source": [
    "// Execute system simulation *repeatedly*\n",
    "// Bump the next logical time (scalar), then blast into vector\n",
    "t = t + sensorPeriod;\n",
    "tBar = [[t, t, t]];\n",
    "\n",
    "// Step the system from k to k+1\n",
    "x = step(x, tBar);\n",
    "k += 1;\n",
    "\n",
    "// Statistics\n",
    "reportStats(k, x, t);\n"
   ]
  }
 ],
 "metadata": {
  "kernelspec": {
   "display_name": "TypeScript",
   "language": "typescript",
   "name": "tslab"
  },
  "language_info": {
   "codemirror_mode": {
    "mode": "typescript",
    "name": "javascript",
    "typescript": true
   },
   "file_extension": ".ts",
   "mimetype": "text/typescript",
   "name": "typescript",
   "version": "3.7.2"
  }
 },
 "nbformat": 4,
 "nbformat_minor": 5
}
