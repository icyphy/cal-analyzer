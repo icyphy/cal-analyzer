{
 "cells": [
  {
   "cell_type": "markdown",
   "id": "7e7ea321-63f0-4382-b753-9001ae91e69e",
   "metadata": {},
   "source": [
    "# Reaction-level CAL Theorem Examples"
   ]
  },
  {
   "cell_type": "code",
   "execution_count": 1,
   "id": "34cf9183",
   "metadata": {},
   "outputs": [
    {
     "data": {
      "application/vnd.plotly.v1+json": {
       "config": {
        "plotlyServerURL": "https://plot.ly"
       },
       "data": [
        {
         "base": [
          "2024-10-10T09:00:00.000000000",
          "2024-10-10T10:00:00.000000000",
          "2024-10-10T11:00:00.000000000"
         ],
         "hovertemplate": "Start=%{base}<br>Finish=%{x}<br>Task=%{y}<extra></extra>",
         "legendgroup": "",
         "marker": {
          "color": "#636efa",
          "pattern": {
           "shape": ""
          }
         },
         "name": "",
         "orientation": "h",
         "showlegend": false,
         "textposition": "auto",
         "type": "bar",
         "x": {
          "bdata": "AN1tAMBlUgCA7jYA",
          "dtype": "i4"
         },
         "xaxis": "x",
         "y": [
          "Task 1",
          "Task 2",
          "Task 3"
         ],
         "yaxis": "y"
        }
       ],
       "layout": {
        "barmode": "overlay",
        "legend": {
         "tracegroupgap": 0
        },
        "template": {
         "data": {
          "bar": [
           {
            "error_x": {
             "color": "#2a3f5f"
            },
            "error_y": {
             "color": "#2a3f5f"
            },
            "marker": {
             "line": {
              "color": "#E5ECF6",
              "width": 0.5
             },
             "pattern": {
              "fillmode": "overlay",
              "size": 10,
              "solidity": 0.2
             }
            },
            "type": "bar"
           }
          ],
          "barpolar": [
           {
            "marker": {
             "line": {
              "color": "#E5ECF6",
              "width": 0.5
             },
             "pattern": {
              "fillmode": "overlay",
              "size": 10,
              "solidity": 0.2
             }
            },
            "type": "barpolar"
           }
          ],
          "carpet": [
           {
            "aaxis": {
             "endlinecolor": "#2a3f5f",
             "gridcolor": "white",
             "linecolor": "white",
             "minorgridcolor": "white",
             "startlinecolor": "#2a3f5f"
            },
            "baxis": {
             "endlinecolor": "#2a3f5f",
             "gridcolor": "white",
             "linecolor": "white",
             "minorgridcolor": "white",
             "startlinecolor": "#2a3f5f"
            },
            "type": "carpet"
           }
          ],
          "choropleth": [
           {
            "colorbar": {
             "outlinewidth": 0,
             "ticks": ""
            },
            "type": "choropleth"
           }
          ],
          "contour": [
           {
            "colorbar": {
             "outlinewidth": 0,
             "ticks": ""
            },
            "colorscale": [
             [
              0,
              "#0d0887"
             ],
             [
              0.1111111111111111,
              "#46039f"
             ],
             [
              0.2222222222222222,
              "#7201a8"
             ],
             [
              0.3333333333333333,
              "#9c179e"
             ],
             [
              0.4444444444444444,
              "#bd3786"
             ],
             [
              0.5555555555555556,
              "#d8576b"
             ],
             [
              0.6666666666666666,
              "#ed7953"
             ],
             [
              0.7777777777777778,
              "#fb9f3a"
             ],
             [
              0.8888888888888888,
              "#fdca26"
             ],
             [
              1,
              "#f0f921"
             ]
            ],
            "type": "contour"
           }
          ],
          "contourcarpet": [
           {
            "colorbar": {
             "outlinewidth": 0,
             "ticks": ""
            },
            "type": "contourcarpet"
           }
          ],
          "heatmap": [
           {
            "colorbar": {
             "outlinewidth": 0,
             "ticks": ""
            },
            "colorscale": [
             [
              0,
              "#0d0887"
             ],
             [
              0.1111111111111111,
              "#46039f"
             ],
             [
              0.2222222222222222,
              "#7201a8"
             ],
             [
              0.3333333333333333,
              "#9c179e"
             ],
             [
              0.4444444444444444,
              "#bd3786"
             ],
             [
              0.5555555555555556,
              "#d8576b"
             ],
             [
              0.6666666666666666,
              "#ed7953"
             ],
             [
              0.7777777777777778,
              "#fb9f3a"
             ],
             [
              0.8888888888888888,
              "#fdca26"
             ],
             [
              1,
              "#f0f921"
             ]
            ],
            "type": "heatmap"
           }
          ],
          "histogram": [
           {
            "marker": {
             "pattern": {
              "fillmode": "overlay",
              "size": 10,
              "solidity": 0.2
             }
            },
            "type": "histogram"
           }
          ],
          "histogram2d": [
           {
            "colorbar": {
             "outlinewidth": 0,
             "ticks": ""
            },
            "colorscale": [
             [
              0,
              "#0d0887"
             ],
             [
              0.1111111111111111,
              "#46039f"
             ],
             [
              0.2222222222222222,
              "#7201a8"
             ],
             [
              0.3333333333333333,
              "#9c179e"
             ],
             [
              0.4444444444444444,
              "#bd3786"
             ],
             [
              0.5555555555555556,
              "#d8576b"
             ],
             [
              0.6666666666666666,
              "#ed7953"
             ],
             [
              0.7777777777777778,
              "#fb9f3a"
             ],
             [
              0.8888888888888888,
              "#fdca26"
             ],
             [
              1,
              "#f0f921"
             ]
            ],
            "type": "histogram2d"
           }
          ],
          "histogram2dcontour": [
           {
            "colorbar": {
             "outlinewidth": 0,
             "ticks": ""
            },
            "colorscale": [
             [
              0,
              "#0d0887"
             ],
             [
              0.1111111111111111,
              "#46039f"
             ],
             [
              0.2222222222222222,
              "#7201a8"
             ],
             [
              0.3333333333333333,
              "#9c179e"
             ],
             [
              0.4444444444444444,
              "#bd3786"
             ],
             [
              0.5555555555555556,
              "#d8576b"
             ],
             [
              0.6666666666666666,
              "#ed7953"
             ],
             [
              0.7777777777777778,
              "#fb9f3a"
             ],
             [
              0.8888888888888888,
              "#fdca26"
             ],
             [
              1,
              "#f0f921"
             ]
            ],
            "type": "histogram2dcontour"
           }
          ],
          "mesh3d": [
           {
            "colorbar": {
             "outlinewidth": 0,
             "ticks": ""
            },
            "type": "mesh3d"
           }
          ],
          "parcoords": [
           {
            "line": {
             "colorbar": {
              "outlinewidth": 0,
              "ticks": ""
             }
            },
            "type": "parcoords"
           }
          ],
          "pie": [
           {
            "automargin": true,
            "type": "pie"
           }
          ],
          "scatter": [
           {
            "fillpattern": {
             "fillmode": "overlay",
             "size": 10,
             "solidity": 0.2
            },
            "type": "scatter"
           }
          ],
          "scatter3d": [
           {
            "line": {
             "colorbar": {
              "outlinewidth": 0,
              "ticks": ""
             }
            },
            "marker": {
             "colorbar": {
              "outlinewidth": 0,
              "ticks": ""
             }
            },
            "type": "scatter3d"
           }
          ],
          "scattercarpet": [
           {
            "marker": {
             "colorbar": {
              "outlinewidth": 0,
              "ticks": ""
             }
            },
            "type": "scattercarpet"
           }
          ],
          "scattergeo": [
           {
            "marker": {
             "colorbar": {
              "outlinewidth": 0,
              "ticks": ""
             }
            },
            "type": "scattergeo"
           }
          ],
          "scattergl": [
           {
            "marker": {
             "colorbar": {
              "outlinewidth": 0,
              "ticks": ""
             }
            },
            "type": "scattergl"
           }
          ],
          "scattermap": [
           {
            "marker": {
             "colorbar": {
              "outlinewidth": 0,
              "ticks": ""
             }
            },
            "type": "scattermap"
           }
          ],
          "scattermapbox": [
           {
            "marker": {
             "colorbar": {
              "outlinewidth": 0,
              "ticks": ""
             }
            },
            "type": "scattermapbox"
           }
          ],
          "scatterpolar": [
           {
            "marker": {
             "colorbar": {
              "outlinewidth": 0,
              "ticks": ""
             }
            },
            "type": "scatterpolar"
           }
          ],
          "scatterpolargl": [
           {
            "marker": {
             "colorbar": {
              "outlinewidth": 0,
              "ticks": ""
             }
            },
            "type": "scatterpolargl"
           }
          ],
          "scatterternary": [
           {
            "marker": {
             "colorbar": {
              "outlinewidth": 0,
              "ticks": ""
             }
            },
            "type": "scatterternary"
           }
          ],
          "surface": [
           {
            "colorbar": {
             "outlinewidth": 0,
             "ticks": ""
            },
            "colorscale": [
             [
              0,
              "#0d0887"
             ],
             [
              0.1111111111111111,
              "#46039f"
             ],
             [
              0.2222222222222222,
              "#7201a8"
             ],
             [
              0.3333333333333333,
              "#9c179e"
             ],
             [
              0.4444444444444444,
              "#bd3786"
             ],
             [
              0.5555555555555556,
              "#d8576b"
             ],
             [
              0.6666666666666666,
              "#ed7953"
             ],
             [
              0.7777777777777778,
              "#fb9f3a"
             ],
             [
              0.8888888888888888,
              "#fdca26"
             ],
             [
              1,
              "#f0f921"
             ]
            ],
            "type": "surface"
           }
          ],
          "table": [
           {
            "cells": {
             "fill": {
              "color": "#EBF0F8"
             },
             "line": {
              "color": "white"
             }
            },
            "header": {
             "fill": {
              "color": "#C8D4E3"
             },
             "line": {
              "color": "white"
             }
            },
            "type": "table"
           }
          ]
         },
         "layout": {
          "annotationdefaults": {
           "arrowcolor": "#2a3f5f",
           "arrowhead": 0,
           "arrowwidth": 1
          },
          "autotypenumbers": "strict",
          "coloraxis": {
           "colorbar": {
            "outlinewidth": 0,
            "ticks": ""
           }
          },
          "colorscale": {
           "diverging": [
            [
             0,
             "#8e0152"
            ],
            [
             0.1,
             "#c51b7d"
            ],
            [
             0.2,
             "#de77ae"
            ],
            [
             0.3,
             "#f1b6da"
            ],
            [
             0.4,
             "#fde0ef"
            ],
            [
             0.5,
             "#f7f7f7"
            ],
            [
             0.6,
             "#e6f5d0"
            ],
            [
             0.7,
             "#b8e186"
            ],
            [
             0.8,
             "#7fbc41"
            ],
            [
             0.9,
             "#4d9221"
            ],
            [
             1,
             "#276419"
            ]
           ],
           "sequential": [
            [
             0,
             "#0d0887"
            ],
            [
             0.1111111111111111,
             "#46039f"
            ],
            [
             0.2222222222222222,
             "#7201a8"
            ],
            [
             0.3333333333333333,
             "#9c179e"
            ],
            [
             0.4444444444444444,
             "#bd3786"
            ],
            [
             0.5555555555555556,
             "#d8576b"
            ],
            [
             0.6666666666666666,
             "#ed7953"
            ],
            [
             0.7777777777777778,
             "#fb9f3a"
            ],
            [
             0.8888888888888888,
             "#fdca26"
            ],
            [
             1,
             "#f0f921"
            ]
           ],
           "sequentialminus": [
            [
             0,
             "#0d0887"
            ],
            [
             0.1111111111111111,
             "#46039f"
            ],
            [
             0.2222222222222222,
             "#7201a8"
            ],
            [
             0.3333333333333333,
             "#9c179e"
            ],
            [
             0.4444444444444444,
             "#bd3786"
            ],
            [
             0.5555555555555556,
             "#d8576b"
            ],
            [
             0.6666666666666666,
             "#ed7953"
            ],
            [
             0.7777777777777778,
             "#fb9f3a"
            ],
            [
             0.8888888888888888,
             "#fdca26"
            ],
            [
             1,
             "#f0f921"
            ]
           ]
          },
          "colorway": [
           "#636efa",
           "#EF553B",
           "#00cc96",
           "#ab63fa",
           "#FFA15A",
           "#19d3f3",
           "#FF6692",
           "#B6E880",
           "#FF97FF",
           "#FECB52"
          ],
          "font": {
           "color": "#2a3f5f"
          },
          "geo": {
           "bgcolor": "white",
           "lakecolor": "white",
           "landcolor": "#E5ECF6",
           "showlakes": true,
           "showland": true,
           "subunitcolor": "white"
          },
          "hoverlabel": {
           "align": "left"
          },
          "hovermode": "closest",
          "mapbox": {
           "style": "light"
          },
          "paper_bgcolor": "white",
          "plot_bgcolor": "#E5ECF6",
          "polar": {
           "angularaxis": {
            "gridcolor": "white",
            "linecolor": "white",
            "ticks": ""
           },
           "bgcolor": "#E5ECF6",
           "radialaxis": {
            "gridcolor": "white",
            "linecolor": "white",
            "ticks": ""
           }
          },
          "scene": {
           "xaxis": {
            "backgroundcolor": "#E5ECF6",
            "gridcolor": "white",
            "gridwidth": 2,
            "linecolor": "white",
            "showbackground": true,
            "ticks": "",
            "zerolinecolor": "white"
           },
           "yaxis": {
            "backgroundcolor": "#E5ECF6",
            "gridcolor": "white",
            "gridwidth": 2,
            "linecolor": "white",
            "showbackground": true,
            "ticks": "",
            "zerolinecolor": "white"
           },
           "zaxis": {
            "backgroundcolor": "#E5ECF6",
            "gridcolor": "white",
            "gridwidth": 2,
            "linecolor": "white",
            "showbackground": true,
            "ticks": "",
            "zerolinecolor": "white"
           }
          },
          "shapedefaults": {
           "line": {
            "color": "#2a3f5f"
           }
          },
          "ternary": {
           "aaxis": {
            "gridcolor": "white",
            "linecolor": "white",
            "ticks": ""
           },
           "baxis": {
            "gridcolor": "white",
            "linecolor": "white",
            "ticks": ""
           },
           "bgcolor": "#E5ECF6",
           "caxis": {
            "gridcolor": "white",
            "linecolor": "white",
            "ticks": ""
           }
          },
          "title": {
           "x": 0.05
          },
          "xaxis": {
           "automargin": true,
           "gridcolor": "white",
           "linecolor": "white",
           "ticks": "",
           "title": {
            "standoff": 15
           },
           "zerolinecolor": "white",
           "zerolinewidth": 2
          },
          "yaxis": {
           "automargin": true,
           "gridcolor": "white",
           "linecolor": "white",
           "ticks": "",
           "title": {
            "standoff": 15
           },
           "zerolinecolor": "white",
           "zerolinewidth": 2
          }
         }
        },
        "title": {
         "text": "Real-Time System Example Timeline"
        },
        "xaxis": {
         "anchor": "y",
         "domain": [
          0,
          1
         ],
         "type": "date"
        },
        "yaxis": {
         "anchor": "x",
         "categoryorder": "total ascending",
         "domain": [
          0,
          1
         ],
         "title": {
          "text": "Task"
         }
        }
       }
      }
     },
     "metadata": {},
     "output_type": "display_data"
    }
   ],
   "source": [
    "### A nice example of a timeline\n",
    "\n",
    "import plotly.express as px\n",
    "\n",
    "df = [\n",
    "    dict(Task=\"Task 1\", Start='2024-10-10 09:00', Finish='2024-10-10 11:00'),\n",
    "    dict(Task=\"Task 2\", Start='2024-10-10 10:00', Finish='2024-10-10 11:30'),\n",
    "    dict(Task=\"Task 3\", Start='2024-10-10 11:00', Finish='2024-10-10 12:00'),\n",
    "]\n",
    "\n",
    "fig = px.timeline(df, x_start=\"Start\", x_end=\"Finish\", y=\"Task\", title=\"Real-Time System Example Timeline\")\n",
    "fig.update_yaxes(categoryorder=\"total ascending\")\n",
    "fig.show()\n"
   ]
  },
  {
   "cell_type": "code",
   "execution_count": null,
   "id": "1523618e",
   "metadata": {},
   "outputs": [],
   "source": [
    "# Max-plus functions from https://github.com/msnhdyt/Max-Plus-Algebra\n",
    "import numpy as np\n",
    "\n",
    "# function for calculating A oplus B\n",
    "def oplus(A, B):\n",
    "  if not type(A) is np.ndarray or A.ndim != 2:\n",
    "    raise TypeError(\"A must be a 2d numpy array\")\n",
    "  if not type(B) is np.ndarray or B.ndim != 2:\n",
    "    raise TypeError(\"B must be a 2d numpy array\")\n",
    "  if A.shape != B.shape:\n",
    "    raise TypeError(\"A and B must have the same shape: A.shape={}, B.shape={}\".format(A.shape, B.shape))\n",
    "  result = np.zeros(A.shape)\n",
    "  for i, r in enumerate(A):\n",
    "    for j, c in enumerate(r):\n",
    "      result[i][j] = max(A[i][j], B[i][j])\n",
    "  return result\n",
    "\n",
    "# Function for calculating A otimes B, i.e., matrix multiplication\n",
    "def otimes(A, B):\n",
    "  if not type(A) is np.ndarray or A.ndim != 2:\n",
    "    raise TypeError(\"A must be a 2d numpy array\")\n",
    "  if not type(B) is np.ndarray or B.ndim != 2:\n",
    "    raise TypeError(\"B must be a 2d numpy array\")\n",
    "  if A.shape[1] != B.shape[0]:\n",
    "    raise TypeError(\"A's 2nd dimension does not match B's 1st dimension: A.shape={}, B.shape={}\".format(A.shape, B.shape))\n",
    "\n",
    "  if A.shape == (1,1) or B.shape == (1,1):\n",
    "    result = A + B\n",
    "    return result\n",
    "  else:\n",
    "    result = np.zeros([A.shape[0], B.shape[1]])\n",
    "    B = B.T\n",
    "    for i, row_a in enumerate(A):\n",
    "      for j, row_b in enumerate(B):\n",
    "        result[i][j] = odot(row_a, row_b)\n",
    "    return result\n",
    "  \n",
    "# Function for taking the max-plus dot product of two row vectors\n",
    "def odot(a, b):\n",
    "  assert a.ndim == b.ndim == 1, \"Vector a and b must be 1D arrays\"\n",
    "  assert len(a) == len(b), \"Vector a and b must have the same shape\"\n",
    "  result = np.array([float('-inf')] * len(a))\n",
    "  for i in range(0, len(a)):\n",
    "    result[i] = a[i] + b[i]\n",
    "  return max(result)\n",
    "\n",
    "# function for calculating A^n in otimes\n",
    "def pow_otimes(A, n):\n",
    "  if not type(A) is np.ndarray or A.ndim != 2:\n",
    "    raise TypeError(\"the function only receive 2d numpy array\")\n",
    "  result = A\n",
    "  for i in range(n-1):\n",
    "    result = otimes(result, A)\n",
    "  return result\n",
    "\n",
    "# function for calculating trace(A)\n",
    "def trace(A):\n",
    "  if not type(A) is np.ndarray or A.ndim != 2:\n",
    "    raise TypeError(\"the function only receive 2d numpy array\")\n",
    "  return max(A.diagonal())\n",
    "\n",
    "# function for calculating A*\n",
    "def star(A):\n",
    "  if not type(A) is np.ndarray or A.ndim != 2:\n",
    "    raise TypeError(\"the function only receive 2d numpy array\")\n",
    "  \n",
    "  result = np.zeros(A.shape)\n",
    "  # initialize result with E\n",
    "  for i in range(len(A)):\n",
    "    for j in range(len(A)):\n",
    "      if i == j:\n",
    "        result[i][j] = 0\n",
    "      else:\n",
    "        result[i][j] = float('-inf')\n",
    "\n",
    "  for i in range(1,len(A)):\n",
    "    result = oplus(result, pow_otimes(A,i))\n",
    "  \n",
    "  return result\n",
    "\n",
    "# function for calculating A^+\n",
    "def plus(A):\n",
    "  if not type(A) is np.ndarray or A.ndim != 2:\n",
    "    raise TypeError(\"the function only receive 2d numpy array\")\n",
    "  \n",
    "  result = A\n",
    "\n",
    "  for i in range(1,len(A)+1):\n",
    "    result = oplus(result, pow_otimes(A,i))\n",
    "  \n",
    "  return result"
   ]
  },
  {
   "cell_type": "code",
   "execution_count": 3,
   "id": "ebcbe48f",
   "metadata": {},
   "outputs": [
    {
     "data": {
      "text/plain": [
       "array([[ -2.,   3.,   1.],\n",
       "       [  1.,   1., -inf],\n",
       "       [-inf,   2.,   1.]])"
      ]
     },
     "execution_count": 3,
     "metadata": {},
     "output_type": "execute_result"
    }
   ],
   "source": [
    "A = np.array([[-2,3,1], [1,1,float('-inf')], [float('-inf'),2,1]])\n",
    "A"
   ]
  },
  {
   "cell_type": "code",
   "execution_count": 4,
   "id": "3f83b74c",
   "metadata": {},
   "outputs": [
    {
     "data": {
      "text/plain": [
       "np.float64(1.0)"
      ]
     },
     "execution_count": 4,
     "metadata": {},
     "output_type": "execute_result"
    }
   ],
   "source": [
    "trace(A)"
   ]
  },
  {
   "cell_type": "markdown",
   "id": "8bf755ba",
   "metadata": {},
   "source": [
    "### Impossible Consistency\n",
    "\n",
    "<img src=\"../img/ImpossibleConsistency.svg\" alt=\"drawing\" width=\"500\"/>\n",
    "\n",
    "In the formulation below, reaction 1s are ignored for simplicity."
   ]
  },
  {
   "cell_type": "code",
   "execution_count": 7,
   "id": "0dd91b40",
   "metadata": {},
   "outputs": [],
   "source": [
    "# Negative infinity to denote nothing has happened yet\n",
    "# epsilon = empty element = -inf\n",
    "eps = float('-inf')\n",
    "# Positive infinity to denote the exhaustion of future events\n",
    "inf = float('inf')\n",
    "\n",
    "# Return an epsilon-filled row vector with the same shape as the input vector.\n",
    "def reset(a):\n",
    "    return np.array([[eps] * a.shape[1]])\n",
    "\n",
    "# Create vectors. These are row vectors, i.e., shape = 1 x n.\n",
    "x_p = np.array([[eps] * 4])   # Physical firing times in the k+1-th iteration\n",
    "x   = np.array([[eps] * 4])   # Physical firing times in the k-th iteration\n",
    "u   = np.array([[eps] * 2])   # Logical scheduling times of physical actions (which is also physical time)\n",
    "\n",
    "# Indices\n",
    "a1  = 0 # Reaction 1 in reactor A\n",
    "a2  = 1 # Reaction 2 in reactor A\n",
    "b1  = 2 # Reaction 1 in reactor B\n",
    "b2  = 3 # Reaction 2 in reactor B\n",
    "pa  = 0 # Physical action in reactor A\n",
    "pb  = 1 # Physical action in reactor B\n",
    "\n",
    "# Setting execution times\n",
    "e   = np.array([[1] * 4])   # Execution times"
   ]
  },
  {
   "cell_type": "code",
   "execution_count": 8,
   "id": "9c8e423d",
   "metadata": {},
   "outputs": [
    {
     "name": "stdout",
     "output_type": "stream",
     "text": [
      "A1 fires at t=1.0\n",
      "A2 fires at t=2.0\n",
      "B1 fires at t=1.0\n",
      "B2 fires at t=2.0\n"
     ]
    }
   ],
   "source": [
    "\n",
    "# Schedule physical actions\n",
    "u[0][pa] = 1 # t_A = 1\n",
    "u[0][pb] = 1 # t_B = 1\n",
    "\n",
    "# Evolution equations\n",
    "x_p[0][a1] = max(x[0][a2]+e[0][a2], u[0][pa])\n",
    "x_p[0][b1] = max(x[0][b2]+e[0][b2], u[0][pb]) # This needs to precede the next two lines because it is used later.\n",
    "x_p[0][a2] = max(x_p[0][a1]+e[0][a1], x_p[0][b1]+e[0][b1])\n",
    "x_p[0][b2] = max(x_p[0][a1]+e[0][a1], x_p[0][b1]+e[0][b1])\n",
    "\n",
    "# Report results\n",
    "print(\"A1 fires at t={time}\".format(time=x_p[0][a1]))\n",
    "print(\"A2 fires at t={time}\".format(time=x_p[0][a2]))\n",
    "print(\"B1 fires at t={time}\".format(time=x_p[0][b1]))\n",
    "print(\"B2 fires at t={time}\".format(time=x_p[0][b2]))"
   ]
  },
  {
   "cell_type": "markdown",
   "id": "12c47da2",
   "metadata": {},
   "source": [
    "Now encode the evolution equations into max-plus matrix form to make the\n",
    "evolution more functional.\n",
    "\n",
    "We are trying to write the following equation:\n",
    "x(k+1) = M x(k) ⊕ N u(k)"
   ]
  },
  {
   "cell_type": "code",
   "execution_count": 9,
   "id": "f98a4b38",
   "metadata": {},
   "outputs": [],
   "source": [
    "# Evolution matrix\n",
    "M = np.array([\n",
    "    [eps, e[0][a2], eps, eps], \n",
    "    [eps, e[0][a1]+e[0][a2], eps, e[0][a1]+e[0][a2]],\n",
    "    [eps, eps, eps, e[0][b2]],\n",
    "    [eps, e[0][a1]+e[0][a2], eps, e[0][a1]+e[0][a2]],\n",
    "])\n",
    "\n",
    "# Control coefficient matrix\n",
    "N = np.array([\n",
    "    [0, eps],\n",
    "    [e[0][a1], e[0][b1]],\n",
    "    [eps, 0],\n",
    "    [e[0][a1], e[0][b1]],\n",
    "])"
   ]
  },
  {
   "cell_type": "code",
   "execution_count": 10,
   "id": "d5eeba20",
   "metadata": {},
   "outputs": [],
   "source": [
    "def step(x, u):\n",
    "    assert x.shape[0] == 1, \"x is not a row vector: x.shape={0}\".format(x.shape)\n",
    "    assert u.shape[0] == 1, \"u is not a row vector: u.shape={0}\".format(u.shape)\n",
    "    Mx = otimes(M, x.T)\n",
    "    Nu = otimes(N, u.T)\n",
    "    # print(\"Mx:{}\".format(Mx))\n",
    "    # print(\"Nu:{}\".format(Nu))\n",
    "    # Returns a row vector to make iterations easy.\n",
    "    return oplus(Mx, Nu).T"
   ]
  },
  {
   "cell_type": "code",
   "execution_count": 11,
   "id": "9ebcc5e4",
   "metadata": {},
   "outputs": [
    {
     "data": {
      "text/plain": [
       "array([[  1.,   2., -inf,   2.]])"
      ]
     },
     "execution_count": 11,
     "metadata": {},
     "output_type": "execute_result"
    }
   ],
   "source": [
    "# Schedule physical actions\n",
    "u[0][pa] = 1\n",
    "u[0][pb] = eps\n",
    "\n",
    "# Step the system from k=0 to k=1\n",
    "x_p = step(x, u)\n",
    "x_p"
   ]
  },
  {
   "cell_type": "markdown",
   "id": "dd8f760b",
   "metadata": {},
   "source": [
    "Let's create a machine that steps itself. Here we assume physical\n",
    "actions behave like timers. Each iteration is a different timestamp.\n",
    "\n",
    "### NOTE\n",
    "This formulation assumes that each iteration `k`\n",
    "represents a new tag described by `u(k)`, so it does not make sense for\n",
    "`u(k)` to have two different non-negative-infinite values. Only three\n",
    "cases are possible here:\n",
    "1) One element of `u(k)` is a finite future logical time to be advanced to, and the other element is `-inf`.\n",
    "2) Both elements are some identical future logical time.\n",
    "3) Both elements are `-inf`."
   ]
  },
  {
   "cell_type": "code",
   "execution_count": 12,
   "id": "194f5221",
   "metadata": {},
   "outputs": [],
   "source": [
    "def report_stats(k, x, u):\n",
    "    next_logical_time = np.max(u)\n",
    "    lag_k = x - next_logical_time # lag\n",
    "    print(\"Tag index k={k}\".format(k=k))\n",
    "    print(\"u(k)= {0}\".format(u))\n",
    "    # print(\"next logical time = {0}\".format(next_logical_time))\n",
    "    print(\"x(k) = earliest possible firing times = {0}\".format(x))\n",
    "    print(\"lag(k) = {0}\".format(lag_k))"
   ]
  },
  {
   "cell_type": "markdown",
   "id": "b6935b86",
   "metadata": {},
   "source": [
    "The cell below sets all parameters."
   ]
  },
  {
   "cell_type": "code",
   "execution_count": 13,
   "id": "97958d90",
   "metadata": {},
   "outputs": [],
   "source": [
    "# Initial firing of actions\n",
    "pa_init_offset = 0\n",
    "pb_init_offset = 0\n",
    "u[0][pa] = pa_init_offset\n",
    "u[0][pb] = pb_init_offset\n",
    "\n",
    "# Set the period of the actions \n",
    "# (Either same or one is -inf. See NOTE above)\n",
    "# NOTE 2: eigenvalue(M) = 2. Ie., smallest minimum spacing of the physical action to make the systme feasible\n",
    "pa_period = 2 # If actions scheduled simultaneously, use 1.999 to see divergence. Use inf if no future events are scheduled.\n",
    "pb_period = 2 # If actions scheduled simultaneously, use 1.999 to see divergence. Use inf if no future events are scheduled.\n",
    "\n",
    "# If following is uncommented, set pa_init_offset=0 and\n",
    "# pb_init_offset=0.001, then set pa_period=pb_period=3.999 to observe\n",
    "# divergence, which disappears when pa_period=pb_period=4\n",
    "\"\"\"\n",
    "toggle = True\n",
    "pa_cache = u[0][pa]\n",
    "pb_cache = u[0][pb]\n",
    "\"\"\"\n",
    "\n",
    "# STAs \n",
    "\"\"\"\n",
    "sta_a = 1\n",
    "sta_b = 1\n",
    "\"\"\"\n",
    "\n",
    "# Interation count\n",
    "k = 0\n",
    "\n",
    "# Reset x to eps.\n",
    "x = reset(x)"
   ]
  },
  {
   "cell_type": "code",
   "execution_count": 14,
   "id": "3a2dc712",
   "metadata": {},
   "outputs": [],
   "source": [
    "# Evolution matrix\n",
    "M = np.array([\n",
    "    [eps, e[0][a2], eps, eps], \n",
    "    [eps, e[0][a1]+e[0][a2], eps, e[0][a1]+e[0][a2]],\n",
    "    [eps, eps, eps, e[0][b2]],\n",
    "    [eps, e[0][a1]+e[0][a2], eps, e[0][a1]+e[0][a2]],\n",
    "])\n",
    "\n",
    "# Control coefficient matrix\n",
    "N = np.array([\n",
    "    [0, eps],\n",
    "    [e[0][a1], e[0][b1]],\n",
    "    [eps, 0],\n",
    "    [e[0][a1], e[0][b1]],\n",
    "])\n",
    "\n",
    "# FIXME: Check to see if adding STAs this way makes sense.\n",
    "# N = np.array([\n",
    "#     [sta_a, eps],\n",
    "#     [e[0][a1]+sta_a, e[0][b1]+sta_b],\n",
    "#     [eps, sta_b],\n",
    "#     [e[0][a1]+sta_a, e[0][b1]+sta_b],\n",
    "# ])"
   ]
  },
  {
   "cell_type": "markdown",
   "id": "e3486ac4",
   "metadata": {},
   "source": [
    "Execute the following *once*."
   ]
  },
  {
   "cell_type": "code",
   "execution_count": 15,
   "id": "1db1960d",
   "metadata": {},
   "outputs": [
    {
     "name": "stdout",
     "output_type": "stream",
     "text": [
      "Tag index k=1\n",
      "u(k)= [[0. 0.]]\n",
      "x(k) = earliest possible firing times = [[0. 1. 0. 1.]]\n",
      "lag(k) = [[0. 1. 0. 1.]]\n"
     ]
    }
   ],
   "source": [
    "# Step the system from k=0 to k=1\n",
    "x = step(x, u)\n",
    "k += 1\n",
    "\n",
    "# Statistics\n",
    "report_stats(k, x, u)"
   ]
  },
  {
   "cell_type": "markdown",
   "id": "842efe31",
   "metadata": {},
   "source": [
    "Then execute the following *repeatedly*."
   ]
  },
  {
   "cell_type": "code",
   "execution_count": 16,
   "id": "436f1dca",
   "metadata": {},
   "outputs": [
    {
     "name": "stdout",
     "output_type": "stream",
     "text": [
      "Tag index k=2\n",
      "u(k)= [[2. 2.]]\n",
      "x(k) = earliest possible firing times = [[2. 3. 2. 3.]]\n",
      "lag(k) = [[0. 1. 0. 1.]]\n"
     ]
    }
   ],
   "source": [
    "# Bump the next physical action firing times\n",
    "u[0][pa] = u[0][pa] + pa_period\n",
    "u[0][pb] = u[0][pb] + pb_period\n",
    "\n",
    "\"\"\"\n",
    "if toggle:\n",
    "    u[0][pa] = pa_cache + pa_period\n",
    "    pb_cache = u[0][pb]\n",
    "    u[0][pb] = eps\n",
    "else:\n",
    "    pa_cache = u[0][pa]\n",
    "    u[0][pa] = eps\n",
    "    u[0][pb] = pb_cache + pb_period\n",
    "toggle = not toggle\n",
    "print(f\"toggle={toggle}\")\n",
    "\"\"\"\n",
    "\n",
    "# Step the system from k to k+1\n",
    "x = step(x, u)\n",
    "k += 1\n",
    "\n",
    "# Statistics\n",
    "report_stats(k, x, u)"
   ]
  },
  {
   "cell_type": "markdown",
   "id": "c1a8247d",
   "metadata": {},
   "source": [
    "### Divergence\n",
    "Divergence occurs when the gap between `u(k)` and `x(k)` *grows* over\n",
    "iterations. We should not see divergence when the action periods = 10,\n",
    "but should see divergence when the action periods = 1. \n",
    "\n",
    "Note that even if\n",
    "one action is always absent, i.e., `offset = period = eps`, divergence\n",
    "still occurs. This is because `x(k)` currently represents the \"earliest\n",
    "physical firing times *if triggered*\". The formulation does not\n",
    "currently include information of whether a reaction gets triggered or not."
   ]
  },
  {
   "cell_type": "markdown",
   "id": "d54958a6",
   "metadata": {},
   "source": [
    "### Theorem: Infeasibility\n",
    "\n",
    "A sufficient STA needs to satisfy: $\\forall u(k) \\in \\mathbb{T}, u(k) +\n",
    "\\textit{STA} \\ge x(k)$.\n",
    "\n",
    "If Consistency is indeed Impossible for this program, we should prove\n",
    "that \"No finite STA satisfies this constraint for all possible u(k).\""
   ]
  },
  {
   "cell_type": "markdown",
   "id": "736640d8",
   "metadata": {},
   "source": [
    "### Proof\n",
    "\n",
    "In other words, a sufficient STA needs to satisfy: $\\forall u(k) \\in \\mathbb{T}, \\textit{STA} \\ge x(k+1) -\n",
    "u(k)$.\n",
    "\n",
    "Define $\\textit{STA}(k) = x(k+1) - u(k)$, which means the \"minimum STA\n",
    "required to handle the k+1-th time tag\". For an STA to be a sufficient parameter, it\n",
    "needs to satisfy $\\forall k \\in \\mathbb{I}, \\textit{STA} \\ge \\textit{STA}(k)$.\n",
    "\n",
    "Because of divergence, $\\textit{STA}(k)$ approaches $\\infty$ as $k$ increases.\n",
    "\n",
    "In the special case where $u(k) = u(k-1) + \\textit{period}$ and $\\textit{period} = 1$, the\n",
    "only $\\textit{STA} >= \\textit{STA}(k)$ for all $k$ is $\\textit{STA} = \\infty$.\n",
    "\n",
    "Therefore, in the general case when $u(k)$ is *unknown*, the only satisfying $\\textit{STA}$ is $\\textit{STA} = \\infty$."
   ]
  }
 ],
 "metadata": {
  "kernelspec": {
   "display_name": "cal",
   "language": "python",
   "name": "python3"
  },
  "language_info": {
   "codemirror_mode": {
    "name": "ipython",
    "version": 3
   },
   "file_extension": ".py",
   "mimetype": "text/x-python",
   "name": "python",
   "nbconvert_exporter": "python",
   "pygments_lexer": "ipython3",
   "version": "3.12.9"
  }
 },
 "nbformat": 4,
 "nbformat_minor": 5
}
