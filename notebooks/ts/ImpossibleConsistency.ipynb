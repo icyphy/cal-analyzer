{
 "cells": [
  {
   "cell_type": "markdown",
   "id": "a559a62b",
   "metadata": {},
   "source": [
    "# Reaction-level CAL Theorem Examples"
   ]
  },
  {
   "cell_type": "code",
   "execution_count": 1,
   "id": "011604e9",
   "metadata": {},
   "outputs": [
    {
     "name": "stdout",
     "output_type": "stream",
     "text": [
      "Max-plus algebra functions loaded\n"
     ]
    }
   ],
   "source": [
    "// Max-plus functions from https://github.com/msnhdyt/Max-Plus-Algebra\n",
    "// Type definitions\n",
    "type Matrix = number[][];\n",
    "type Vector = number[];\n",
    "\n",
    "// Constants\n",
    "const EPS = Number.NEGATIVE_INFINITY; // epsilon = empty element = -inf\n",
    "const INF = Number.POSITIVE_INFINITY; // positive infinity\n",
    "\n",
    "// Function for calculating A oplus B\n",
    "function oplus(A: Matrix, B: Matrix): Matrix {\n",
    "  if (A.length !== B.length || A[0].length !== B[0].length) {\n",
    "    throw new TypeError(`A and B must have the same shape: A.shape=[${A.length},${A[0].length}], B.shape=[${B.length},${B[0].length}]`);\n",
    "  }\n",
    "  \n",
    "  const result: Matrix = [];\n",
    "  for (let i = 0; i < A.length; i++) {\n",
    "    result[i] = [];\n",
    "    for (let j = 0; j < A[i].length; j++) {\n",
    "      result[i][j] = Math.max(A[i][j], B[i][j]);\n",
    "    }\n",
    "  }\n",
    "  return result;\n",
    "}\n",
    "\n",
    "// Function for calculating A otimes B, i.e., matrix multiplication\n",
    "function otimes(A: Matrix, B: Matrix): Matrix {\n",
    "  // console.log(\"A dim:\");\n",
    "  // console.log(A);\n",
    "  // console.log(\"B dim:\");\n",
    "  // console.log(B);\n",
    "  if (A[0].length !== B.length) {\n",
    "    throw new TypeError(`A's 2nd dimension does not match B's 1st dimension: A.shape=[${A.length},${A[0].length}], B.shape=[${B.length},${B[0].length}]`);\n",
    "  }\n",
    "\n",
    "  if (A.length === 1 && A[0].length === 1 || B.length === 1 && B[0].length === 1) {\n",
    "    return [[A[0][0] + B[0][0]]];\n",
    "  } else {\n",
    "    const result: Matrix = [];\n",
    "    const B_T = transpose(B);\n",
    "    \n",
    "    for (let i = 0; i < A.length; i++) {\n",
    "      result[i] = [];\n",
    "      for (let j = 0; j < B_T.length; j++) {\n",
    "        result[i][j] = odot(A[i], B_T[j]);\n",
    "      }\n",
    "    }\n",
    "    return result;\n",
    "  }\n",
    "}\n",
    "\n",
    "// Function for taking the max-plus dot product of two row vectors\n",
    "function odot(a: Vector, b: Vector): number {\n",
    "  if (a.length !== b.length) {\n",
    "    throw new Error(`Vector a and b must have the same length: a.length=${a.length}, b.length=${b.length}`);\n",
    "  }\n",
    "  \n",
    "  const result: number[] = [];\n",
    "  for (let i = 0; i < a.length; i++) {\n",
    "    result[i] = a[i] + b[i];\n",
    "  }\n",
    "  return Math.max(...result);\n",
    "}\n",
    "\n",
    "// Helper function to transpose a matrix\n",
    "function transpose(matrix: Matrix): Matrix {\n",
    "  return matrix[0].map((_, colIndex) => matrix.map(row => row[colIndex]));\n",
    "}\n",
    "\n",
    "// Function for calculating A^n in otimes\n",
    "function powOtimes(A: Matrix, n: number): Matrix {\n",
    "  let result = A;\n",
    "  for (let i = 0; i < n - 1; i++) {\n",
    "    result = otimes(result, A);\n",
    "  }\n",
    "  return result;\n",
    "}\n",
    "\n",
    "// Function for calculating trace(A)\n",
    "function trace(A: Matrix): number {\n",
    "  const diagonal: number[] = [];\n",
    "  for (let i = 0; i < A.length; i++) {\n",
    "    diagonal.push(A[i][i]);\n",
    "  }\n",
    "  return Math.max(...diagonal);\n",
    "}\n",
    "\n",
    "// Function for calculating A*\n",
    "function star(A: Matrix): Matrix {\n",
    "  const n = A.length;\n",
    "  // Initialize result with E (identity matrix)\n",
    "  let result: Matrix = [];\n",
    "  for (let i = 0; i < n; i++) {\n",
    "    result[i] = [];\n",
    "    for (let j = 0; j < n; j++) {\n",
    "      if (i === j) {\n",
    "        result[i][j] = 0;\n",
    "      } else {\n",
    "        result[i][j] = EPS;\n",
    "      }\n",
    "    }\n",
    "  }\n",
    "\n",
    "  for (let i = 1; i < n; i++) {\n",
    "    result = oplus(result, powOtimes(A, i));\n",
    "  }\n",
    "  \n",
    "  return result;\n",
    "}\n",
    "\n",
    "// Function for calculating A^+\n",
    "function plus(A: Matrix): Matrix {\n",
    "  let result = A;\n",
    "  const n = A.length;\n",
    "  \n",
    "  for (let i = 1; i <= n; i++) {\n",
    "    result = oplus(result, powOtimes(A, i));\n",
    "  }\n",
    "  \n",
    "  return result;\n",
    "}\n",
    "\n",
    "console.log(\"Max-plus algebra functions loaded\");\n"
   ]
  },
  {
   "cell_type": "code",
   "execution_count": 2,
   "id": "904fa7b9",
   "metadata": {},
   "outputs": [
    {
     "name": "stdout",
     "output_type": "stream",
     "text": [
      "Matrix A: [ [ -2, 3, 1 ], [ 1, 1, -Infinity ], [ -Infinity, 2, 1 ] ]\n",
      "Trace of A: 1\n"
     ]
    }
   ],
   "source": [
    "// Example matrix A\n",
    "const A: Matrix = [\n",
    "  [-2, 3, 1],\n",
    "  [1, 1, EPS],\n",
    "  [EPS, 2, 1]\n",
    "];\n",
    "\n",
    "console.log(\"Matrix A:\", A);\n",
    "console.log(\"Trace of A:\", trace(A));\n"
   ]
  },
  {
   "cell_type": "markdown",
   "id": "ef5d3896",
   "metadata": {},
   "source": [
    "### Impossible Consistency\n",
    "\n",
    "<img src=\"../../img/ImpossibleConsistency.svg\" alt=\"drawing\" width=\"500\"/>\n",
    "\n",
    "In the formulation below, reaction 1s are ignored for simplicity.\n"
   ]
  },
  {
   "cell_type": "markdown",
   "id": "c0031a22",
   "metadata": {},
   "source": [
    "### Step 0: The cell below sets all parameters.\n"
   ]
  },
  {
   "cell_type": "code",
   "execution_count": 3,
   "id": "7267a3c6",
   "metadata": {},
   "outputs": [
    {
     "name": "stdout",
     "output_type": "stream",
     "text": [
      "Parameters set up\n"
     ]
    }
   ],
   "source": [
    "// System setup and evolution equations\n",
    "// Return an epsilon-filled matrix with the same shape as the input matrix\n",
    "function reset(a: Matrix): Matrix {\n",
    "  return a.map(row => row.map(() => EPS));\n",
    "}\n",
    "\n",
    "// Create matrices. These are row matrices, i.e., shape = 1 x n\n",
    "let x_p   : Matrix = [[EPS, EPS, EPS, EPS]]; // Physical firing times in the k+1-th iteration\n",
    "let x     : Matrix = [[EPS, EPS, EPS, EPS]]; // Physical firing times in the k-th iteration\n",
    "let t     : number = EPS;\n",
    "let t_bar : Matrix = [new Array(4).fill(t)]; // Logical scheduling times of physical actions\n",
    "\n",
    "// Indices\n",
    "const a1 = 0; // Reaction 1 in reactor A\n",
    "const a2 = 1; // Reaction 2 in reactor A\n",
    "const b1 = 2; // Reaction 1 in reactor B\n",
    "const b2 = 3; // Reaction 2 in reactor B\n",
    "const pa = 0; // Physical action in reactor A\n",
    "const pb = 1; // Physical action in reactor B\n",
    "\n",
    "// Setting execution times\n",
    "const e: Matrix = [[1, 1, 1, 1]];   // Execution times\n",
    "\n",
    "// Initial firing of actions\n",
    "const paInitOffset = 0;\n",
    "const pbInitOffset = 0;\n",
    "\n",
    "// Set the period of the actions \n",
    "// (Either same or one is -inf. See NOTE above)\n",
    "// NOTE 2: eigenvalue(M) = 2. Ie., smallest minimum spacing of the physical action to make the system feasible\n",
    "const paPeriod = 2; // If actions scheduled simultaneously, use 1.999 to see divergence. Use inf if no future events are scheduled.\n",
    "const pbPeriod = 2; // If actions scheduled simultaneously, use 1.999 to see divergence. Use inf if no future events are scheduled.\n",
    "\n",
    "//// Not tested well\n",
    "// This is used to model the case where the physical actions\n",
    "// are scheduled with period > 2 but slightly misaligned.\n",
    "// In this case, divergence still occurs.\n",
    "// To see this effect, set paInitOffset=0 and pbInitOffset=0.001 (small misalignment),\n",
    "// then set paPeriod=pbPeriod=3.999 to observe\n",
    "// divergence, which disappears when paPeriod=pbPeriod=4\n",
    "// let toggle = true;\n",
    "// let paCache = u[0][pa];\n",
    "// let pbCache = u[0][pb];\n",
    "\n",
    "// STAs \n",
    "/*\n",
    "const staA = 1;\n",
    "const staB = 1;\n",
    "*/\n",
    "\n",
    "// Iteration count\n",
    "let k = 0;\n",
    "\n",
    "// Reset x to eps\n",
    "x = reset(x);\n",
    "\n",
    "console.log(\"Parameters set up\");\n"
   ]
  },
  {
   "cell_type": "code",
   "execution_count": null,
   "id": "8ab3f717",
   "metadata": {},
   "outputs": [],
   "source": [
    "// Reaction dependency matrix\n",
    "const GammaStar: Matrix = [\n",
    "  [0, EPS, EPS, EPS],\n",
    "  [e[0][a1], 0, e[0][b1], EPS],\n",
    "  [EPS, EPS, 0, EPS],\n",
    "  [e[0][a1], EPS, e[0][b1], 0],\n",
    "];\n",
    "\n",
    "// Barrier synchronization matrix\n",
    "const B: Matrix = [\n",
    "  [e[0][a1], e[0][a2], EPS, EPS],\n",
    "  [e[0][a1], e[0][a2], EPS, EPS],\n",
    "  [EPS, EPS, e[0][b1], e[0][b2]],\n",
    "  [EPS, EPS, e[0][b1], e[0][b2]],\n",
    "];"
   ]
  },
  {
   "cell_type": "code",
   "execution_count": 5,
   "id": "c9dc3e6a",
   "metadata": {},
   "outputs": [],
   "source": [
    "// Step function for evolution (updated to work with matrices)\n",
    "function step(x: Matrix, t: Matrix): Matrix {\n",
    "  // Transpose input matrices for matrix multiplication\n",
    "  const xT: Matrix = transpose(x);\n",
    "  const tT: Matrix = transpose(t);\n",
    "\n",
    "  const GammaStarB = otimes(GammaStar, B);\n",
    "  const GammaStarBxT = otimes(GammaStarB, xT);\n",
    "  const GammaStartT = otimes(GammaStar, tT);\n",
    "  \n",
    "  const result = oplus(GammaStarBxT, GammaStartT);\n",
    "\n",
    "  // Return the transpose of the result\n",
    "  return transpose(result);\n",
    "}\n"
   ]
  },
  {
   "cell_type": "code",
   "execution_count": 6,
   "id": "7ca4f8e4",
   "metadata": {},
   "outputs": [],
   "source": [
    "// Reporting function (updated to work with matrices)\n",
    "function reportStats(k: number, x: Matrix, t: number): void {\n",
    "  const lagK = x[0].map(xi => xi - t); // lag\n",
    "\n",
    "  console.log(`Tag index k=${k}`);\n",
    "  console.log(`t(k)= ${t}`);\n",
    "  console.log(`x(k) = earliest possible firing times = [${x[0].join(', ')}]`);\n",
    "  console.log(`lag(k) = [${lagK.join(', ')}]`);\n",
    "}  "
   ]
  },
  {
   "cell_type": "markdown",
   "id": "232f77e5",
   "metadata": {},
   "source": [
    "### Step 1: Execute the following cell *once*"
   ]
  },
  {
   "cell_type": "code",
   "execution_count": 7,
   "id": "fbd226cd",
   "metadata": {},
   "outputs": [
    {
     "name": "stdout",
     "output_type": "stream",
     "text": [
      "Tag index k=1\n",
      "t(k)= 0\n",
      "x(k) = earliest possible firing times = [0, 1, 0, 1]\n",
      "lag(k) = [0, 1, 0, 1]\n"
     ]
    }
   ],
   "source": [
    "let paNextTime = paInitOffset;\n",
    "let pbNextTime = pbInitOffset;\n",
    "t = Math.min(paNextTime, pbNextTime);\n",
    "t_bar = [new Array(4).fill(t)];\n",
    "\n",
    "x = step(x, t_bar);\n",
    "k += 1;\n",
    "\n",
    "// Statistics\n",
    "reportStats(k, x, t);\n"
   ]
  },
  {
   "cell_type": "markdown",
   "id": "82603e9c",
   "metadata": {},
   "source": [
    "### Last Step: Execute the following cell *repeatedly*\n"
   ]
  },
  {
   "cell_type": "code",
   "execution_count": 17,
   "id": "ac6266cc",
   "metadata": {},
   "outputs": [
    {
     "name": "stdout",
     "output_type": "stream",
     "text": [
      "Tag index k=11\n",
      "t(k)= 20\n",
      "x(k) = earliest possible firing times = [20, 21, 20, 21]\n",
      "lag(k) = [0, 1, 0, 1]\n"
     ]
    }
   ],
   "source": [
    "// Bump the next physical action firing times\n",
    "paNextTime += paPeriod;\n",
    "pbNextTime += pbPeriod;\n",
    "t = Math.min(paNextTime, pbNextTime);\n",
    "t_bar = [new Array(4).fill(t)];\n",
    "\n",
    "//// Not tested well\n",
    "// if (toggle) {\n",
    "//     u[0][pa] = paCache + paPeriod;\n",
    "//     pbCache = u[0][pb];\n",
    "//     u[0][pb] = EPS;\n",
    "// } else {\n",
    "//     paCache = u[0][pa];\n",
    "//     u[0][pa] = EPS;\n",
    "//     u[0][pb] = pbCache + pbPeriod;\n",
    "// }\n",
    "// toggle = !toggle;\n",
    "// console.log(`toggle=${toggle}`);\n",
    "\n",
    "// Step the system from k to k+1\n",
    "x = step(x, t_bar);\n",
    "k += 1;\n",
    "\n",
    "// Statistics\n",
    "reportStats(k, x, t);\n"
   ]
  }
 ],
 "metadata": {
  "kernelspec": {
   "display_name": "TypeScript",
   "language": "typescript",
   "name": "tslab"
  },
  "language_info": {
   "codemirror_mode": {
    "mode": "typescript",
    "name": "javascript",
    "typescript": true
   },
   "file_extension": ".ts",
   "mimetype": "text/typescript",
   "name": "typescript",
   "version": "3.7.2"
  }
 },
 "nbformat": 4,
 "nbformat_minor": 5
}
