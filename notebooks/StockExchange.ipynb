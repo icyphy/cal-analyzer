{
 "cells": [
  {
   "cell_type": "markdown",
   "metadata": {},
   "source": [
    "### Simple Feedback System\n",
    "\n",
    "The goal of this notebook is to gently introduce a variant of the [CAL theorem](https://arxiv.org/abs/2109.07771) by Lee et al, which is more fine-grained than the original and can be more easily applied to the [Lingua Franca](https://github.com/lf-lang/lingua-franca) coordination language.\n",
    "\n",
    "Consider the following feedback system.\n",
    "\n",
    "<img src=\"../img/StockExchange.svg\" alt=\"drawing\" width=\"600\"/>"
   ]
  },
  {
   "cell_type": "markdown",
   "metadata": {},
   "source": [
    "#### Max-Plus Operators"
   ]
  },
  {
   "cell_type": "code",
   "execution_count": null,
   "metadata": {},
   "outputs": [],
   "source": [
    "# Max-plus functions from https://github.com/msnhdyt/Max-Plus-Algebra\n",
    "import numpy as np\n",
    "\n",
    "# function for calculating A oplus B\n",
    "def oplus(A, B):\n",
    "  if not type(A) is np.ndarray or A.ndim != 2:\n",
    "    raise TypeError(\"A must be a 2d numpy array\")\n",
    "  if not type(B) is np.ndarray or B.ndim != 2:\n",
    "    raise TypeError(\"B must be a 2d numpy array\")\n",
    "  if A.shape != B.shape:\n",
    "    raise TypeError(\"A and B must have the same shape: A.shape={}, B.shape={}\".format(A.shape, B.shape))\n",
    "  result = np.zeros(A.shape)\n",
    "  for i, r in enumerate(A):\n",
    "    for j, c in enumerate(r):\n",
    "      result[i][j] = max(A[i][j], B[i][j])\n",
    "  return result\n",
    "\n",
    "# Function for calculating A otimes B, i.e., matrix multiplication\n",
    "def otimes(A, B):\n",
    "  if not type(A) is np.ndarray or A.ndim != 2:\n",
    "    raise TypeError(\"A must be a 2d numpy array\")\n",
    "  if not type(B) is np.ndarray or B.ndim != 2:\n",
    "    raise TypeError(\"B must be a 2d numpy array\")\n",
    "  if A.shape[1] != B.shape[0]:\n",
    "    raise TypeError(\"A's 2nd dimension does not match B's 1st dimension: A.shape={}, B.shape={}\".format(A.shape, B.shape))\n",
    "\n",
    "  if A.shape == (1,1) or B.shape == (1,1):\n",
    "    result = A + B\n",
    "    return result\n",
    "  else:\n",
    "    result = np.zeros([A.shape[0], B.shape[1]])\n",
    "    B = B.T\n",
    "    for i, row_a in enumerate(A):\n",
    "      for j, row_b in enumerate(B):\n",
    "        result[i][j] = odot(row_a, row_b)\n",
    "    return result\n",
    "  \n",
    "# Function for taking the max-plus dot product of two row vectors\n",
    "def odot(a, b):\n",
    "  assert a.ndim == b.ndim == 1, \"Vector a and b must be 1D arrays\"\n",
    "  assert len(a) == len(b), \"Vector a and b must have the same shape\"\n",
    "  result = np.array([float('-inf')] * len(a))\n",
    "  for i in range(0, len(a)):\n",
    "    result[i] = a[i] + b[i]\n",
    "  return max(result)\n",
    "\n",
    "# function for calculating A^n in otimes\n",
    "def pow_otimes(A, n):\n",
    "  if not type(A) is np.ndarray or A.ndim != 2:\n",
    "    raise TypeError(\"the function only receive 2d numpy array\")\n",
    "  result = A\n",
    "  for i in range(n-1):\n",
    "    result = otimes(result, A)\n",
    "  return result\n",
    "\n",
    "# function for calculating trace(A)\n",
    "def trace(A):\n",
    "  if not type(A) is np.ndarray or A.ndim != 2:\n",
    "    raise TypeError(\"the function only receive 2d numpy array\")\n",
    "  return max(A.diagonal())\n",
    "\n",
    "# function for calculating A*\n",
    "def star(A):\n",
    "  if not type(A) is np.ndarray or A.ndim != 2:\n",
    "    raise TypeError(\"the function only receive 2d numpy array\")\n",
    "  \n",
    "  result = np.zeros(A.shape)\n",
    "  # initialize result with E\n",
    "  for i in range(len(A)):\n",
    "    for j in range(len(A)):\n",
    "      if i == j:\n",
    "        result[i][j] = 0\n",
    "      else:\n",
    "        result[i][j] = float('-inf')\n",
    "\n",
    "  for i in range(1,len(A)):\n",
    "    result = oplus(result, pow_otimes(A,i))\n",
    "  \n",
    "  return result\n",
    "\n",
    "# function for calculating A^+\n",
    "def plus(A):\n",
    "  if not type(A) is np.ndarray or A.ndim != 2:\n",
    "    raise TypeError(\"the function only receive 2d numpy array\")\n",
    "  \n",
    "  result = A\n",
    "\n",
    "  for i in range(1,len(A)+1):\n",
    "    result = oplus(result, pow_otimes(A,i))\n",
    "  \n",
    "  return result"
   ]
  },
  {
   "cell_type": "markdown",
   "metadata": {},
   "source": [
    "#### Constants and variables"
   ]
  },
  {
   "cell_type": "code",
   "execution_count": null,
   "metadata": {},
   "outputs": [],
   "source": [
    "# Negative infinity to denote nothing has happened yet\n",
    "# epsilon = empty element = -inf\n",
    "eps = float('-inf')\n",
    "# Positive infinity to denote the exhaustion of future events\n",
    "inf = float('inf')\n",
    "\n",
    "# Return an epsilon-filled row vector with the same shape as the input vector.\n",
    "def reset(a):\n",
    "    return np.array([[eps] * a.shape[1]])\n",
    "\n",
    "# Create vectors. These are row vectors, i.e., shape = 1 x n.\n",
    "x_p = np.array([[eps] * 2])   # Physical firing times in the k+1-th iteration\n",
    "x   = np.array([[eps] * 2])   # Physical firing times in the k-th iteration\n",
    "u   = np.array([[eps] * 1])   # Logical scheduling times of physical actions (which is also physical time)\n",
    "\n",
    "# Indices\n",
    "idx_c = 0 # Reaction in reactor Client\n",
    "idx_e = 1 # Reaction in reactor Exchange\n",
    "\n",
    "# Setting execution times\n",
    "e = np.array([[1, 1]])   # Execution times"
   ]
  },
  {
   "cell_type": "markdown",
   "metadata": {},
   "source": [
    "#### M and N matrix"
   ]
  },
  {
   "cell_type": "code",
   "execution_count": null,
   "metadata": {},
   "outputs": [],
   "source": [
    "# Evolution matrix\n",
    "M = np.array([\n",
    "    [e[0][idx_c], eps], \n",
    "    [e[0][idx_c]+e[0][idx_c], e[0][idx_e]],\n",
    "])\n",
    "\n",
    "# Control coefficient matrix\n",
    "N = np.array([\n",
    "    [0],\n",
    "    [e[0][idx_c]],\n",
    "])"
   ]
  },
  {
   "cell_type": "markdown",
   "metadata": {},
   "source": [
    "#### Helper functions"
   ]
  },
  {
   "cell_type": "code",
   "execution_count": null,
   "metadata": {},
   "outputs": [],
   "source": [
    "def step(x, u):\n",
    "    assert x.shape[0] == 1, \"x is not a row vector: x.shape={0}\".format(x.shape)\n",
    "    assert u.shape[0] == 1, \"u is not a row vector: u.shape={0}\".format(u.shape)\n",
    "    Mx = otimes(M, x.T)\n",
    "    Nu = otimes(N, u.T)\n",
    "    # print(\"Mx:{}\".format(Mx))\n",
    "    # print(\"Nu:{}\".format(Nu))\n",
    "    # Returns a row vector to make iterations easy.\n",
    "    return oplus(Mx, Nu).T"
   ]
  },
  {
   "cell_type": "code",
   "execution_count": null,
   "metadata": {},
   "outputs": [],
   "source": [
    "def report_stats(k, x, u):\n",
    "    next_logical_time = np.max(u)\n",
    "    lag_k = x - next_logical_time # lag\n",
    "    print(\"Tag index k={k}\".format(k=k))\n",
    "    print(\"u(k)= {0}\".format(u))\n",
    "    # print(\"next logical time = {0}\".format(next_logical_time))\n",
    "    print(\"x(k) = earliest possible firing times = {0}\".format(x))\n",
    "    print(\"lag(k) = {0}\".format(lag_k))"
   ]
  },
  {
   "cell_type": "markdown",
   "metadata": {},
   "source": [
    "#### A function for modeling user orders"
   ]
  },
  {
   "cell_type": "code",
   "execution_count": null,
   "metadata": {},
   "outputs": [],
   "source": [
    "# Initial firing of actions\n",
    "action_init_offset = 0\n",
    "u[0][c] = action_init_offset\n",
    "\n",
    "# Set the period of the actions \n",
    "# (Either same or one is -inf. See NOTE above)\n",
    "# NOTE 2: eigenvalue(M) = smallest minimum spacing of the physical action to make the systme feasible\n",
    "action_period = 1 # If actions scheduled simultaneously, use 0.999 to see divergence. Use inf if no future events are scheduled.\n",
    "\n",
    "# Interation count\n",
    "k = 0\n",
    "\n",
    "# Reset x to eps.\n",
    "x = reset(x)"
   ]
  },
  {
   "cell_type": "markdown",
   "metadata": {},
   "source": [
    "#### Evolve the system"
   ]
  },
  {
   "cell_type": "code",
   "execution_count": null,
   "metadata": {},
   "outputs": [],
   "source": [
    "# Step the system from k=0 to k=1\n",
    "x = step(x, u)\n",
    "k += 1\n",
    "\n",
    "# Statistics\n",
    "report_stats(k, x, u)"
   ]
  },
  {
   "cell_type": "code",
   "execution_count": null,
   "metadata": {},
   "outputs": [],
   "source": [
    "# Bump the next physical action firing times\n",
    "u[0][c] = u[0][c] + action_period\n",
    "\n",
    "# Step the system from k to k+1\n",
    "x = step(x, u)\n",
    "k += 1\n",
    "\n",
    "# Statistics\n",
    "report_stats(k, x, u)"
   ]
  }
 ],
 "metadata": {
  "kernelspec": {
   "display_name": "cal",
   "language": "python",
   "name": "python3"
  },
  "language_info": {
   "codemirror_mode": {
    "name": "ipython",
    "version": 3
   },
   "file_extension": ".py",
   "mimetype": "text/x-python",
   "name": "python",
   "nbconvert_exporter": "python",
   "pygments_lexer": "ipython3",
   "version": "3.12.9"
  }
 },
 "nbformat": 4,
 "nbformat_minor": 2
}
